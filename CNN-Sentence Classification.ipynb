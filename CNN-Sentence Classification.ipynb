{
 "cells": [
  {
   "cell_type": "markdown",
   "metadata": {},
   "source": [
    "# Convolutional Neural Networks for Sentence Classification"
   ]
  },
  {
   "cell_type": "code",
   "execution_count": 2,
   "metadata": {
    "collapsed": true
   },
   "outputs": [],
   "source": [
    "import tensorflow as tf\n",
    "import numpy as np"
   ]
  },
  {
   "cell_type": "markdown",
   "metadata": {},
   "source": [
    "### Hyperparameters\n",
    "\n",
    "> For all datasets we use: rectified linear units, filter\n",
    "windows $(h)$ of $3, 4, 5$ with $100$ feature maps each,\n",
    "dropout rate $(p)$ of $0.5$, $l_2$ constraint $(s)$ of $3$, and\n",
    "mini-batch size of $50$. \n",
    "\n",
    "\n",
    "\n",
    "> Training is done through stochastic gradient descent over shuffled mini-batches with the\n",
    "Adadelta update rule (Zeiler, 2012).\n"
   ]
  },
  {
   "cell_type": "code",
   "execution_count": 3,
   "metadata": {
    "collapsed": false
   },
   "outputs": [],
   "source": [
    "relu = tf.nn.relu\n",
    "h = [3, 4, 5]\n",
    "p = 0.5\n",
    "s = 3\n",
    "batch_size = 50\n",
    "Adadelta = tf.train.AdadeltaOptimizer"
   ]
  },
  {
   "cell_type": "code",
   "execution_count": null,
   "metadata": {
    "collapsed": true
   },
   "outputs": [],
   "source": []
  }
 ],
 "metadata": {
  "kernelspec": {
   "display_name": "Python 2",
   "language": "python",
   "name": "python2"
  },
  "language_info": {
   "codemirror_mode": {
    "name": "ipython",
    "version": 2
   },
   "file_extension": ".py",
   "mimetype": "text/x-python",
   "name": "python",
   "nbconvert_exporter": "python",
   "pygments_lexer": "ipython2",
   "version": "2.7.10"
  }
 },
 "nbformat": 4,
 "nbformat_minor": 0
}
