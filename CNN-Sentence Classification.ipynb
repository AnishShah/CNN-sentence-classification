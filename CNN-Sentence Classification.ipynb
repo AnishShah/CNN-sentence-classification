{
 "cells": [
  {
   "cell_type": "markdown",
   "metadata": {},
   "source": [
    "# Convolutional Neural Networks for Sentence Classification"
   ]
  },
  {
   "cell_type": "code",
   "execution_count": 37,
   "metadata": {
    "collapsed": true
   },
   "outputs": [],
   "source": [
    "import tensorflow as tf\n",
    "import numpy as np\n",
    "import pandas as pd\n",
    "from collections import Counter\n",
    "import nltk\n",
    "import io"
   ]
  },
  {
   "cell_type": "markdown",
   "metadata": {},
   "source": [
    "### Hyperparameters\n",
    "\n",
    "> For all datasets we use: rectified linear units, filter\n",
    "windows $(h)$ of $3, 4, 5$ with $100$ feature maps each,\n",
    "dropout rate $(p)$ of $0.5$, $l_2$ constraint $(s)$ of $3$, and\n",
    "mini-batch size of $50$. \n",
    "\n",
    "\n",
    "\n",
    "> Training is done through stochastic gradient descent over shuffled mini-batches with the\n",
    "Adadelta update rule (Zeiler, 2012).\n"
   ]
  },
  {
   "cell_type": "code",
   "execution_count": 38,
   "metadata": {
    "collapsed": false
   },
   "outputs": [],
   "source": [
    "relu = tf.nn.relu\n",
    "h = [3, 4, 5]\n",
    "p = 0.5\n",
    "s = 3\n",
    "batch_size = 50\n",
    "Adadelta = tf.train.AdadeltaOptimizer"
   ]
  },
  {
   "cell_type": "markdown",
   "metadata": {
    "collapsed": true
   },
   "source": [
    "### Dataset - Movie Reviews\n",
    "\n",
    "|Data   | c   | l | N  | V  | Vpre | Test\n",
    "|---|---|---|---|---|\n",
    "|MR   |  2  | 20  | 10662  | 18765  | 16448 | CV |"
   ]
  },
  {
   "cell_type": "code",
   "execution_count": 70,
   "metadata": {
    "collapsed": false
   },
   "outputs": [
    {
     "name": "stdout",
     "output_type": "stream",
     "text": [
      "V: 18408\n",
      "l: 22\n",
      "N: 10662\n"
     ]
    }
   ],
   "source": [
    "def get_data(filename):\n",
    "    fp = open(filename, 'rb')\n",
    "    tokenizer = nltk.tokenize.WordPunctTokenizer()\n",
    "    data = []\n",
    "    length = 0\n",
    "    vocab = Counter()\n",
    "    for line in fp.readlines():\n",
    "        words = tokenizer.tokenize(line)\n",
    "        for word in words:\n",
    "            vocab[word] += 1\n",
    "        length += len(words)\n",
    "        data.append(line)\n",
    "    return data, length, vocab\n",
    "\n",
    "pos, pos_len, pos_vocab = get_data('data/rt-polarity.pos')\n",
    "neg, neg_len, neg_vocab = get_data('data/rt-polarity.neg')\n",
    "data = pos+neg\n",
    "vocab = pos_vocab + neg_vocab\n",
    "print(\"V: \" + str(len(vocab)))\n",
    "print(\"l: \" + str((pos_len+neg_len)/len(data)))\n",
    "print(\"N: \" + str(len(data)))"
   ]
  },
  {
   "cell_type": "code",
   "execution_count": null,
   "metadata": {
    "collapsed": true
   },
   "outputs": [],
   "source": []
  },
  {
   "cell_type": "code",
   "execution_count": null,
   "metadata": {
    "collapsed": true
   },
   "outputs": [],
   "source": []
  }
 ],
 "metadata": {
  "kernelspec": {
   "display_name": "Python 2",
   "language": "python",
   "name": "python2"
  },
  "language_info": {
   "codemirror_mode": {
    "name": "ipython",
    "version": 2
   },
   "file_extension": ".py",
   "mimetype": "text/x-python",
   "name": "python",
   "nbconvert_exporter": "python",
   "pygments_lexer": "ipython2",
   "version": "2.7.10"
  }
 },
 "nbformat": 4,
 "nbformat_minor": 0
}
